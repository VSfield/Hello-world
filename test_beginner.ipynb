{
  "nbformat": 4,
  "nbformat_minor": 0,
  "metadata": {
    "colab": {
      "name": "test_beginner.ipynb",
      "provenance": [],
      "collapsed_sections": [],
      "authorship_tag": "ABX9TyOIK+sKT9b5BkPJJ5V8IIxk",
      "include_colab_link": true
    },
    "kernelspec": {
      "name": "python3",
      "display_name": "Python 3"
    },
    "language_info": {
      "name": "python"
    }
  },
  "cells": [
    {
      "cell_type": "markdown",
      "metadata": {
        "id": "view-in-github",
        "colab_type": "text"
      },
      "source": [
        "<a href=\"https://colab.research.google.com/github/VSfield/Hello-world/blob/master/test_beginner.ipynb\" target=\"_parent\"><img src=\"https://colab.research.google.com/assets/colab-badge.svg\" alt=\"Open In Colab\"/></a>"
      ]
    },
    {
      "cell_type": "code",
      "metadata": {
        "colab": {
          "base_uri": "https://localhost:8080/"
        },
        "id": "kOLdzVrRfRa9",
        "outputId": "782962c7-7172-4a44-d366-5f02d46a1c8a"
      },
      "source": [
        "print('My name is Victoria')\n",
        "print('Lugbe')\n",
        "print('How are you')"
      ],
      "execution_count": 5,
      "outputs": [
        {
          "output_type": "stream",
          "text": [
            "My name is Victoria\n",
            "Lugbe\n",
            "How are you\n"
          ],
          "name": "stdout"
        }
      ]
    },
    {
      "cell_type": "code",
      "metadata": {
        "colab": {
          "base_uri": "https://localhost:8080/"
        },
        "id": "0-hAM-ydm72M",
        "outputId": "48687e17-daf1-44e5-bd32-1308a402db8f"
      },
      "source": [
        "#addition of two numbers\n",
        "a=10\n",
        "b=20\n",
        "c=a+b\n",
        "print(\"addition of two numbers is\", c)"
      ],
      "execution_count": 8,
      "outputs": [
        {
          "output_type": "stream",
          "text": [
            "addition of two numbers is 30\n"
          ],
          "name": "stdout"
        }
      ]
    },
    {
      "cell_type": "code",
      "metadata": {
        "colab": {
          "base_uri": "https://localhost:8080/"
        },
        "id": "pzMRu44vnS_w",
        "outputId": "664acb8c-3928-4b03-93d7-6d40eab4ddb2"
      },
      "source": [
        "#area of a cycle\n",
        "r=7\n",
        "h=14\n",
        "v=3.14*r*r*h/3\n",
        "print(\"area of a cycle is\",v)"
      ],
      "execution_count": 9,
      "outputs": [
        {
          "output_type": "stream",
          "text": [
            "area of a cycle is 718.0133333333333\n"
          ],
          "name": "stdout"
        }
      ]
    }
  ]
}